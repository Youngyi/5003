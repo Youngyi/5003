{
 "cells": [
  {
   "cell_type": "code",
   "execution_count": 1,
   "metadata": {
    "collapsed": true
   },
   "outputs": [],
   "source": [
    "from pyspark.sql import SQLContext\n",
    "from pyspark.sql.types import *\n",
    "from pyspark.sql import Row\n",
    "from pyspark.sql.functions import udf\n",
    "from pyspark.sql.functions import *\n",
    "from pyspark.sql.functions import udf\n",
    "from pyspark.sql.types import IntegerType\n",
    "from pyspark.sql.types import StructType, StructField\n",
    "from pyspark.sql.types import StringType, IntegerType\n",
    "from pyspark import SparkContext\n",
    "from pyspark.sql import SparkSession\n",
    "\n",
    "sc = SparkContext(\"local\",'app')\n",
    "spark = SparkSession.builder.appName('name').config('spark.sql.shuffle.partitions',10).getOrCreate()"
   ]
  },
  {
   "cell_type": "markdown",
   "metadata": {
    "collapsed": true
   },
   "source": [
    "### Finding Prime Numbers"
   ]
  },
  {
   "cell_type": "code",
   "execution_count": 4,
   "metadata": {
    "scrolled": false
   },
   "outputs": [
    {
     "name": "stdout",
     "output_type": "stream",
     "text": [
      "[17, 401537, 462641, 97, 47137, 113, 43649, 467009, 193, 488833]\n"
     ]
    }
   ],
   "source": [
    "n = 5000\n",
    "allnumbers = sc.parallelize(xrange(2, n), 8).cache()\n",
    "# the key is to repartition the result of flatMap to balance the partition\n",
    "composite = allnumbers.flatMap(lambda x: xrange(x*2, n, x)).repartition(8) #\n",
    "# subtract is set operation\n",
    "prime = allnumbers.subtract(composite)\n",
    "print prime.take(10)"
   ]
  },
  {
   "cell_type": "code",
   "execution_count": 2,
   "metadata": {},
   "outputs": [
    {
     "name": "stdout",
     "output_type": "stream",
     "text": [
      "[62499, 62500, 62500, 62500, 62499, 62500, 62500, 62500]\n",
      "[5216986, 254759, 104166, 62499, 0, 0, 0, 0]\n",
      "[0, 5169, 1, 5219, 0, 5206, 0, 5189, 0, 5165, 0, 5199, 0, 5191, 0, 5199]\n",
      "[17, 401537, 462641, 97]\n"
     ]
    }
   ],
   "source": [
    "# Find the number of elements in each parttion\n",
    "def partitionsize(it): \n",
    "    s = 0\n",
    "    for i in it:\n",
    "        s += 1\n",
    "    yield s\n",
    "# mapPartitions(f)  function usage\n",
    "print allnumbers.mapPartitions(partitionsize).collect()\n",
    "print composite.mapPartitions(partitionsize).collect()\n",
    "print prime.mapPartitions(partitionsize).collect()\n",
    "print prime.glom().collect()[1][0:4]"
   ]
  },
  {
   "cell_type": "markdown",
   "metadata": {},
   "source": [
    "### Data Partitioning"
   ]
  },
  {
   "cell_type": "code",
   "execution_count": 6,
   "metadata": {
    "scrolled": true
   },
   "outputs": [
    {
     "name": "stdout",
     "output_type": "stream",
     "text": [
      "None\n",
      "rdd original glom: [[(8, 8)], [(96, 96), (240, 240)], [(400, 400)], [(401, 401), (800, 800)]]\n",
      "[[(8, 8), (96, 96), (400, 400), (240, 240), (800, 800)], [(401, 401)], [], []]\n",
      "<function portable_hash at 0x1095cd9b0>\n",
      "[[(8, 8), (96, 96)], [(240, 240), (400, 400)], [(401, 401)], [(800, 800)]]\n",
      "<function rangePartitioner at 0x109831848>\n"
     ]
    }
   ],
   "source": [
    "data = [8, 96, 240, 400, 401, 800]\n",
    "rdd = sc.parallelize(zip(data, data),4)\n",
    "print rdd.partitioner\n",
    "print \"rdd original glom:\", rdd.glom().collect() #have not defined partitioning method\n",
    "rdd = rdd.reduceByKey(lambda x,y: x+y)\n",
    "print rdd.glom().collect()  # hash method\n",
    "print rdd.partitioner.partitionFunc\n",
    "rdd = rdd.sortByKey()  # range method\n",
    "print rdd.glom().collect()\n",
    "print rdd.partitioner.partitionFunc"
   ]
  },
  {
   "cell_type": "code",
   "execution_count": 11,
   "metadata": {},
   "outputs": [
    {
     "name": "stdout",
     "output_type": "stream",
     "text": [
      "None\n",
      "<function portable_hash at 0x7f5634d03f50>\n",
      "8\n",
      "<function portable_hash at 0x7f5634d03f50>\n",
      "[(0, (0, 0)), (2048, (2048, 2048)), (1432, (1432, 1432)), (2056, (2056, 2056))]\n"
     ]
    }
   ],
   "source": [
    "# reduceByKey will use hash partitioner\n",
    "# join result will propagate the partitioner\n",
    "a = sc.parallelize(zip(range(10000), range(10000)), 8)\n",
    "b = sc.parallelize(zip(range(10000), range(10000)), 8)\n",
    "print a.partitioner\n",
    "a = a.reduceByKey(lambda x,y: x+y)\n",
    "print a.partitioner.partitionFunc\n",
    "b = b.reduceByKey(lambda x,y: x+y)\n",
    "c = a.join(b)\n",
    "print c.getNumPartitions()\n",
    "print c.partitioner.partitionFunc\n",
    "print c.glom().first()[0:4]"
   ]
  },
  {
   "cell_type": "code",
   "execution_count": 13,
   "metadata": {
    "scrolled": true
   },
   "outputs": [
    {
     "name": "stdout",
     "output_type": "stream",
     "text": [
      "+-------+--------+\n",
      "|waybill|customer|\n",
      "+-------+--------+\n",
      "| 615970|     283|\n",
      "| 590938|     887|\n",
      "| 113890|     428|\n",
      "| 754476|     467|\n",
      "| 333326|     702|\n",
      "| 617912|     491|\n",
      "| 629735|     103|\n",
      "| 865840|     166|\n",
      "| 550506|     673|\n",
      "| 623712|     951|\n",
      "| 276337|     847|\n",
      "| 648179|     952|\n",
      "| 747203|     931|\n",
      "| 578562|     279|\n",
      "|  42006|     919|\n",
      "| 869259|     648|\n",
      "| 338595|     274|\n",
      "| 155656|     523|\n",
      "| 107835|     889|\n",
      "| 934391|     804|\n",
      "+-------+--------+\n",
      "only showing top 20 rows\n",
      "\n",
      "632470\n",
      "+--------+-----+\n",
      "|customer|phone|\n",
      "+--------+-----+\n",
      "|       0|    0|\n",
      "|       1|    1|\n",
      "|       2|    2|\n",
      "|       3|    3|\n",
      "|       4|    4|\n",
      "|       5|    5|\n",
      "|       6|    6|\n",
      "|       7|    7|\n",
      "|       8|    8|\n",
      "|       9|    9|\n",
      "|      10|   10|\n",
      "|      11|   11|\n",
      "|      12|   12|\n",
      "|      13|   13|\n",
      "|      14|   14|\n",
      "|      15|   15|\n",
      "|      16|   16|\n",
      "|      17|   17|\n",
      "|      18|   18|\n",
      "|      19|   19|\n",
      "+--------+-----+\n",
      "only showing top 20 rows\n",
      "\n",
      "1000\n",
      "+-------+------------+\n",
      "|waybill|max(version)|\n",
      "+-------+------------+\n",
      "| 416038|           8|\n",
      "| 559975|           6|\n",
      "| 832177|           0|\n",
      "| 986438|           8|\n",
      "| 856436|           2|\n",
      "| 309740|           6|\n",
      "| 236245|           3|\n",
      "| 617080|           3|\n",
      "| 298144|           8|\n",
      "| 675547|           9|\n",
      "| 529094|           8|\n",
      "| 370261|           8|\n",
      "| 871857|           7|\n",
      "| 513182|           1|\n",
      "| 473317|           8|\n",
      "| 181399|           7|\n",
      "| 245924|           9|\n",
      "| 862239|           9|\n",
      "| 524295|           9|\n",
      "| 773999|           8|\n",
      "+-------+------------+\n",
      "only showing top 20 rows\n",
      "\n",
      "632463\n"
     ]
    }
   ],
   "source": [
    "# A 'real' example from SF Express\n",
    "# Prepare three relational tables\n",
    "#generate the tables\n",
    "from pyspark.sql.functions import *\n",
    "num_waybills = 1000000\n",
    "num_customers = 1000\n",
    "\n",
    "rdd = sc.parallelize((i, ) for i in xrange(num_waybills))\n",
    "waybills = spark.createDataFrame(rdd).select(floor(rand()*num_waybills).alias('waybill'), \n",
    "                                             floor(rand()*num_customers).alias('customer')) \\\n",
    "                .groupBy('waybill').max('customer').withColumnRenamed('max(customer)','customer')\\\n",
    "                .cache()\n",
    "waybills.show()\n",
    "print waybills.count()\n",
    "\n",
    "rdd = sc.parallelize((i, i) for i in xrange(num_customers))\n",
    "customers = spark.createDataFrame(rdd, ['customer', 'phone']).cache()\n",
    "customers.show()\n",
    "print customers.count()\n",
    "\n",
    "rdd = sc.parallelize((i, ) for i in xrange(num_waybills))\n",
    "waybill_status = spark.createDataFrame(rdd).select(floor(rand()*num_waybills).alias('waybill'), \n",
    "                                                   floor(rand()*10).alias('version')) \\\n",
    "                      .groupBy('waybill').max('version').cache()\n",
    "waybill_status.show()\n",
    "print waybill_status.count()"
   ]
  },
  {
   "cell_type": "code",
   "execution_count": 9,
   "metadata": {},
   "outputs": [
    {
     "data": {
      "text/plain": [
       "41"
      ]
     },
     "execution_count": 9,
     "metadata": {},
     "output_type": "execute_result"
    }
   ],
   "source": [
    "waybills.join(waybill_status, 'waybill').count()"
   ]
  },
  {
   "cell_type": "code",
   "execution_count": 14,
   "metadata": {},
   "outputs": [
    {
     "name": "stdout",
     "output_type": "stream",
     "text": [
      "('Time used:', 0.004304000000000308)\n",
      "('Time used:', 0.0027500000000006963)\n"
     ]
    }
   ],
   "source": [
    "# We want to join 3 tables together.\n",
    "# Knowing how each table is partitioned helps optimize the join order.\n",
    "import time\n",
    "\n",
    "start = time.clock()\n",
    "code1=waybills.join(customers, 'customer').join(waybill_status, 'waybill')\n",
    "elapsed = (time.clock() - start)\n",
    "print(\"Time used:\",elapsed)\n",
    "\n",
    "start = time.clock()\n",
    "code2=waybills.join(waybill_status, 'waybill').join(customers, 'customer')\n",
    "elapsed = (time.clock() - start)\n",
    "print(\"Time used:\",elapsed)"
   ]
  },
  {
   "cell_type": "code",
   "execution_count": 9,
   "metadata": {},
   "outputs": [
    {
     "name": "stdout",
     "output_type": "stream",
     "text": [
      "[2500, 0, 0, 0, 0, 0, 0, 0]\n"
     ]
    },
    {
     "data": {
      "text/plain": [
       "[313, 312, 313, 312, 313, 312, 313, 312]"
      ]
     },
     "execution_count": 9,
     "metadata": {},
     "output_type": "execute_result"
    }
   ],
   "source": [
    "def partitionsize(it): yield len(list(it))\n",
    "    \n",
    "n = 40000\n",
    "\n",
    "def f(x):\n",
    "    return x / (n/8)\n",
    "\n",
    "data1 = range(0, n, 16) + range(0, n, 16)\n",
    "data2 = range(0, n, 8)\n",
    "rdd1 = sc.parallelize(zip(data1, data2), 8)   \n",
    "rdd1 = rdd1.reduceByKey(lambda x,y: x+y)  #hash partitioner\n",
    "print rdd1.mapPartitions(partitionsize).collect()\n",
    "rdd1 = rdd1.partitionBy(8, f)  # partitionBy function, will balance the data\n",
    "rdd2 = rdd1.reduceByKey(lambda x,y: x+y, partitionFunc=f)\n",
    "#rdd2 = rdd1.reduceByKey(lambda x,y: x+y)\n",
    "rdd2.mapPartitions(partitionsize).collect()"
   ]
  },
  {
   "cell_type": "markdown",
   "metadata": {},
   "source": [
    "### Partitioning in DataFrames"
   ]
  },
  {
   "cell_type": "code",
   "execution_count": 5,
   "metadata": {},
   "outputs": [
    {
     "name": "stdout",
     "output_type": "stream",
     "text": [
      "8\n",
      "[[Row(_1=1, _2=2)], [Row(_1=1, _2=2)], [Row(_1=1, _2=3)], [Row(_1=2, _2=4), Row(_1=2, _2=5)], [Row(_1=2, _2=3)], [Row(_1=3, _2=1)], [Row(_1=3, _2=1)], [Row(_1=3, _2=2), Row(_1=4, _2=3)]]\n"
     ]
    }
   ],
   "source": [
    "data1 = [1, 1, 1, 2, 2, 2, 3, 3, 3, 4]\n",
    "data2 = [2, 2, 3, 4, 5, 3, 1, 1, 2, 3]\n",
    "df = spark.createDataFrame(zip(data1, data2))\n",
    "print df.rdd.getNumPartitions()\n",
    "print df.rdd.glom().collect()"
   ]
  },
  {
   "cell_type": "code",
   "execution_count": 6,
   "metadata": {},
   "outputs": [
    {
     "name": "stdout",
     "output_type": "stream",
     "text": [
      "[[], [], [Row(_1=1, _2=2), Row(_1=1, _2=2), Row(_1=2, _2=4), Row(_1=2, _2=5), Row(_1=3, _2=2)], [Row(_1=1, _2=3), Row(_1=2, _2=3), Row(_1=4, _2=3)], [], [Row(_1=3, _2=1), Row(_1=3, _2=1)]]\n",
      "+---+---+\n",
      "| _1| _2|\n",
      "+---+---+\n",
      "|  1|  2|\n",
      "|  1|  2|\n",
      "|  2|  4|\n",
      "|  2|  5|\n",
      "|  3|  2|\n",
      "|  1|  3|\n",
      "|  2|  3|\n",
      "|  4|  3|\n",
      "|  3|  1|\n",
      "|  3|  1|\n",
      "+---+---+\n",
      "\n"
     ]
    }
   ],
   "source": [
    "df1 = df.repartition(6, df._2)\n",
    "print df1.rdd.glom().collect()\n",
    "df1.show()"
   ]
  },
  {
   "cell_type": "markdown",
   "metadata": {},
   "source": [
    "### Threading"
   ]
  },
  {
   "cell_type": "code",
   "execution_count": 3,
   "metadata": {},
   "outputs": [
    {
     "name": "stdout",
     "output_type": "stream",
     "text": [
      "Worker 3 reports: Pi is roughly 3.142212\n",
      "Worker 4 reports: Pi is roughly 3.142006\n",
      "Worker 2 reports: Pi is roughly 3.142872\n",
      "Worker 0 reports: Pi is roughly 3.141997\n",
      "Worker 1 reports: Pi is roughly 3.142233\n"
     ]
    },
    {
     "data": {
      "text/plain": [
       "\n",
       "for i in range(5):\n",
       "    dojob(i)\n"
      ]
     },
     "execution_count": 3,
     "metadata": {},
     "output_type": "execute_result"
    }
   ],
   "source": [
    "import threading\n",
    "import random\n",
    "\n",
    "partitions = 8\n",
    "n = 500000 * partitions\n",
    "\n",
    "# use different seeds in different threads and different partitions\n",
    "# a bit ugly, since mapPartitionsWithIndex takes a function with only index\n",
    "# and it as parameters\n",
    "def f1(index, it):\n",
    "    random.seed(index + 987231)\n",
    "    for i in it:\n",
    "        x = random.random() * 2 - 1\n",
    "        y = random.random() * 2 - 1\n",
    "        yield 1 if x ** 2 + y ** 2 < 1 else 0\n",
    "\n",
    "def f2(index, it):\n",
    "    random.seed(index + 987232)\n",
    "    for i in it:\n",
    "        x = random.random() * 2 - 1\n",
    "        y = random.random() * 2 - 1\n",
    "        yield 1 if x ** 2 + y ** 2 < 1 else 0\n",
    "\n",
    "def f3(index, it):\n",
    "    random.seed(index + 987233)\n",
    "    for i in it:\n",
    "        x = random.random() * 2 - 1\n",
    "        y = random.random() * 2 - 1\n",
    "        yield 1 if x ** 2 + y ** 2 < 1 else 0\n",
    "    \n",
    "def f4(index, it):\n",
    "    random.seed(index + 987234)\n",
    "    for i in it:\n",
    "        x = random.random() * 2 - 1\n",
    "        y = random.random() * 2 - 1\n",
    "        yield 1 if x ** 2 + y ** 2 < 1 else 0\n",
    "    \n",
    "def f5(index, it):\n",
    "    random.seed(index + 987245)\n",
    "    for i in it:\n",
    "        x = random.random() * 2 - 1\n",
    "        y = random.random() * 2 - 1\n",
    "        yield 1 if x ** 2 + y ** 2 < 1 else 0\n",
    "\n",
    "f = [f1, f2, f3, f4, f5]\n",
    "    \n",
    "# the function executed in each thread/job\n",
    "def dojob(i):\n",
    "    count = sc.parallelize(xrange(1, n + 1), partitions) \\\n",
    "              .mapPartitionsWithIndex(f[i]).reduce(lambda a,b: a+b)\n",
    "    print \"Worker\", i, \"reports: Pi is roughly\", 4.0 * count / n\n",
    "\n",
    "# create and execute the threads\n",
    "threads = []\n",
    "for i in range(5):\n",
    "    t = threading.Thread(target=dojob, args=(i,))\n",
    "    threads += [t]\n",
    "    t.start()\n",
    "\n",
    "# wait for all threads to complete\n",
    "for t in threads:\n",
    "    t.join()    \n",
    "'''\n",
    "for i in range(5):\n",
    "    dojob(i)\n",
    "'''"
   ]
  },
  {
   "cell_type": "code",
   "execution_count": null,
   "metadata": {
    "collapsed": true
   },
   "outputs": [],
   "source": []
  },
  {
   "cell_type": "code",
   "execution_count": null,
   "metadata": {
    "collapsed": true
   },
   "outputs": [],
   "source": []
  }
 ],
 "metadata": {
  "kernelspec": {
   "display_name": "Python 2",
   "language": "python",
   "name": "python2"
  },
  "language_info": {
   "codemirror_mode": {
    "name": "ipython",
    "version": 2
   },
   "file_extension": ".py",
   "mimetype": "text/x-python",
   "name": "python",
   "nbconvert_exporter": "python",
   "pygments_lexer": "ipython2",
   "version": "2.7.14"
  }
 },
 "nbformat": 4,
 "nbformat_minor": 1
}
