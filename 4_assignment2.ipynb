{
 "cells": [
  {
   "cell_type": "code",
   "execution_count": 1,
   "metadata": {
    "collapsed": true
   },
   "outputs": [],
   "source": [
    "from pyspark.sql import SQLContext\n",
    "from pyspark.sql.types import *\n",
    "from pyspark.sql import Row\n",
    "from pyspark.sql.functions import udf\n",
    "from pyspark.sql.functions import *\n",
    "from pyspark.sql.functions import udf\n",
    "from pyspark.sql.types import IntegerType\n",
    "from pyspark.sql.types import StructType, StructField\n",
    "from pyspark.sql.types import StringType, IntegerType\n",
    "from pyspark import SparkContext\n",
    "from pyspark.sql import SparkSession\n",
    "\n",
    "sc = SparkContext(\"local\",'app')\n",
    "spark = SparkSession.builder.appName('name').config('spark.sql.shuffle.partitions',10).getOrCreate()"
   ]
  },
  {
   "cell_type": "code",
   "execution_count": 3,
   "metadata": {
    "collapsed": true
   },
   "outputs": [],
   "source": [
    "df = spark.read.csv('../data/sales.csv', header=True, inferSchema=True)"
   ]
  },
  {
   "cell_type": "code",
   "execution_count": 4,
   "metadata": {},
   "outputs": [
    {
     "name": "stdout",
     "output_type": "stream",
     "text": [
      "root\n",
      " |-- Transaction_date: string (nullable = true)\n",
      " |-- Product: string (nullable = true)\n",
      " |-- Price: integer (nullable = true)\n",
      " |-- Payment_Type: string (nullable = true)\n",
      " |-- Name: string (nullable = true)\n",
      " |-- City: string (nullable = true)\n",
      " |-- State: string (nullable = true)\n",
      " |-- Country: string (nullable = true)\n",
      " |-- Account_Created: string (nullable = true)\n",
      " |-- Last_Login: string (nullable = true)\n",
      " |-- Latitude: double (nullable = true)\n",
      " |-- Longitude: double (nullable = true)\n",
      "\n"
     ]
    }
   ],
   "source": [
    "df.printSchema()"
   ]
  },
  {
   "cell_type": "markdown",
   "metadata": {},
   "source": [
    "## Q1 Find all distinct countries.\n",
    "\n",
    "Hint: use select(), distinct()"
   ]
  },
  {
   "cell_type": "code",
   "execution_count": 5,
   "metadata": {},
   "outputs": [
    {
     "name": "stdout",
     "output_type": "stream",
     "text": [
      "+--------------------+\n",
      "|             Country|\n",
      "+--------------------+\n",
      "|              France|\n",
      "|             Denmark|\n",
      "|             Austria|\n",
      "|         New Zealand|\n",
      "|              Canada|\n",
      "|             Germany|\n",
      "|              Kuwait|\n",
      "|               Malta|\n",
      "|         South Korea|\n",
      "|             Finland|\n",
      "|              Jersey|\n",
      "|              Israel|\n",
      "|        South Africa|\n",
      "|              Norway|\n",
      "|United Arab Emirates|\n",
      "|             Iceland|\n",
      "|      United Kingdom|\n",
      "|             Ireland|\n",
      "|             Belgium|\n",
      "|             Moldova|\n",
      "+--------------------+\n",
      "only showing top 20 rows\n",
      "\n"
     ]
    }
   ],
   "source": [
    "df_distinct_country=df.select('Country').distinct()\n",
    "df.select('Country').distinct().show()"
   ]
  },
  {
   "cell_type": "markdown",
   "metadata": {},
   "source": [
    "## Question 2\n",
    "Find the Name and Price of sales records in Brazil.\n",
    "\n",
    "Hint: use filter()."
   ]
  },
  {
   "cell_type": "code",
   "execution_count": 8,
   "metadata": {},
   "outputs": [
    {
     "name": "stdout",
     "output_type": "stream",
     "text": [
      "+-------+-----+\n",
      "|   Name|Price|\n",
      "+-------+-----+\n",
      "|Joachim| 1200|\n",
      "|  Diana| 7500|\n",
      "+-------+-----+\n",
      "\n"
     ]
    }
   ],
   "source": [
    "df.select(\"Name\",\"Price\").filter(\"Country='Brazil'\").show()"
   ]
  },
  {
   "cell_type": "markdown",
   "metadata": {},
   "source": [
    "##  Question 3\n",
    "\n",
    "For each country, find the total Price.\n",
    "\n",
    "Hint: Use groupBy()"
   ]
  },
  {
   "cell_type": "code",
   "execution_count": 9,
   "metadata": {},
   "outputs": [
    {
     "name": "stdout",
     "output_type": "stream",
     "text": [
      "+--------------------+----------+\n",
      "|             Country|sum(Price)|\n",
      "+--------------------+----------+\n",
      "|              France|     30300|\n",
      "|             Denmark|      8400|\n",
      "|             Austria|      3600|\n",
      "|         New Zealand|      2400|\n",
      "|              Canada|     42000|\n",
      "|             Germany|     22800|\n",
      "|              Kuwait|      1200|\n",
      "|               Malta|      3600|\n",
      "|         South Korea|      1200|\n",
      "|             Finland|      1200|\n",
      "|              Jersey|      1200|\n",
      "|              Israel|      1200|\n",
      "|        South Africa|      3600|\n",
      "|              Norway|     12000|\n",
      "|United Arab Emirates|      3600|\n",
      "|             Iceland|      1200|\n",
      "|      United Kingdom|     63600|\n",
      "|             Ireland|     29100|\n",
      "|             Belgium|      3600|\n",
      "|             Moldova|      1200|\n",
      "+--------------------+----------+\n",
      "only showing top 20 rows\n",
      "\n"
     ]
    }
   ],
   "source": [
    "df.groupBy('Country').sum(\"Price\").show()"
   ]
  },
  {
   "cell_type": "markdown",
   "metadata": {},
   "source": [
    "## Question 4\n",
    "\n",
    "List countries by their total Price in descending order.\n",
    "\n",
    "Hint: Use orderBy()\n",
    "\n"
   ]
  },
  {
   "cell_type": "code",
   "execution_count": 14,
   "metadata": {},
   "outputs": [
    {
     "name": "stdout",
     "output_type": "stream",
     "text": [
      "+--------------------+----------+\n",
      "|             Country|sum(Price)|\n",
      "+--------------------+----------+\n",
      "|       United States|    350350|\n",
      "|      United Kingdom|     63600|\n",
      "|              Canada|     42000|\n",
      "|              France|     30300|\n",
      "|             Ireland|     29100|\n",
      "|             Germany|     22800|\n",
      "|           Australia|     22800|\n",
      "|         Switzerland|     19200|\n",
      "|         Netherlands|     14400|\n",
      "|              Norway|     12000|\n",
      "|              Brazil|      8700|\n",
      "|              Sweden|      8400|\n",
      "|             Denmark|      8400|\n",
      "|               Malta|      3600|\n",
      "|             Austria|      3600|\n",
      "|             Belgium|      3600|\n",
      "|United Arab Emirates|      3600|\n",
      "|        South Africa|      3600|\n",
      "|               Italy|      2400|\n",
      "|              Turkey|      2400|\n",
      "+--------------------+----------+\n",
      "only showing top 20 rows\n",
      "\n"
     ]
    }
   ],
   "source": [
    "df.groupBy('Country').sum(\"Price\").orderBy('sum(Price)',ascending=False).show()"
   ]
  },
  {
   "cell_type": "markdown",
   "metadata": {},
   "source": [
    "## Question 5\n",
    "Redo Question 3, but replace the country names by their IDs.\n",
    "\n",
    "Hint: Use join()"
   ]
  },
  {
   "cell_type": "code",
   "execution_count": 16,
   "metadata": {
    "collapsed": true
   },
   "outputs": [],
   "source": [
    "df2 = spark.read.csv('../data/countries.csv', header=True, inferSchema=True)"
   ]
  },
  {
   "cell_type": "code",
   "execution_count": 17,
   "metadata": {},
   "outputs": [
    {
     "name": "stdout",
     "output_type": "stream",
     "text": [
      "+---+----------+\n",
      "| ID|TotalPrice|\n",
      "+---+----------+\n",
      "| 22|      3600|\n",
      "| 32|      1200|\n",
      "|  3|     22800|\n",
      "| 29|      1200|\n",
      "| 30|      1200|\n",
      "| 34|      2400|\n",
      "|  4|      1200|\n",
      "| 10|      3600|\n",
      "| 18|      2400|\n",
      "| 25|      1200|\n",
      "| 31|      1200|\n",
      "|  1|     63600|\n",
      "|  8|     42000|\n",
      "| 11|      1200|\n",
      "| 20|      1200|\n",
      "| 21|      2400|\n",
      "| 33|      8700|\n",
      "|  2|    350350|\n",
      "| 12|     19200|\n",
      "| 28|      3600|\n",
      "+---+----------+\n",
      "only showing top 20 rows\n",
      "\n"
     ]
    }
   ],
   "source": [
    "df.join(df2,'Country')\\\n",
    "    .select('ID','Price')\\\n",
    "    .groupBy('ID')\\\n",
    "    .sum('Price')\\\n",
    "    .withColumnRenamed('sum(Price)', 'TotalPrice')\\\n",
    "    .show()"
   ]
  },
  {
   "cell_type": "markdown",
   "metadata": {},
   "source": [
    "## Question 6\n",
    "Rewrite the PageRank example using DataFrame API.  Here is a skeleton of the code.  Your job is to fill in the missing part.  "
   ]
  },
  {
   "cell_type": "code",
   "execution_count": 4,
   "metadata": {},
   "outputs": [],
   "source": [
    "# question code\n",
    "from pyspark.sql.functions import *\n",
    "\n",
    "numOfIterations = 10\n",
    "lines = spark.read.text(\"../data/pagerank_data.txt\")\n",
    "\n",
    "a = lines.select(split(lines[0],' '))\n",
    "links = a.select(a[0][0].alias('src'), a[0][1].alias('dst'))\n",
    "outdegrees = links.groupBy('src').count()\n",
    "ranks = outdegrees.select('src', lit(1).alias('rank'))\n"
   ]
  },
  {
   "cell_type": "code",
   "execution_count": 26,
   "metadata": {},
   "outputs": [
    {
     "name": "stdout",
     "output_type": "stream",
     "text": [
      "+---+-----+\n",
      "|src|count|\n",
      "+---+-----+\n",
      "|  1|    2|\n",
      "|  4|    1|\n",
      "|  3|    1|\n",
      "|  2|    2|\n",
      "+---+-----+\n",
      "\n"
     ]
    }
   ],
   "source": [
    "outdegrees.show()"
   ]
  },
  {
   "cell_type": "code",
   "execution_count": null,
   "metadata": {
    "collapsed": true
   },
   "outputs": [],
   "source": [
    "for iteration in range(numOfIterations):\n",
    "# FILL IN THIS PART\n",
    "    \n",
    "ranks.orderBy(desc('rank')).show()"
   ]
  },
  {
   "cell_type": "code",
   "execution_count": 5,
   "metadata": {},
   "outputs": [
    {
     "name": "stdout",
     "output_type": "stream",
     "text": [
      "+---+------------------+\n",
      "|src|              rank|\n",
      "+---+------------------+\n",
      "|  1|1.2981882732854677|\n",
      "|  4|0.9999999999999998|\n",
      "|  3|0.9999999999999998|\n",
      "|  2|0.7018117267145316|\n",
      "+---+------------------+\n",
      "\n"
     ]
    }
   ],
   "source": [
    "for iteration in range(numOfIterations):\n",
    "# FILL IN THIS PART\n",
    "    distribution=links.join(outdegrees,\"src\").join(ranks,\"src\")\\\n",
    "        .select((links['dst']).alias(\"src\"),\\\n",
    "        (1.0*ranks['rank']/outdegrees['count']).alias(\"distributions\"))    \n",
    "    result=distribution.groupBy(\"src\").sum('distributions')\n",
    "    ranks=result.select('src',(result['sum(distributions)']*0.85+0.15).alias('rank'))\n",
    "ranks.orderBy(desc('rank')).show()"
   ]
  },
  {
   "cell_type": "code",
   "execution_count": null,
   "metadata": {
    "collapsed": true
   },
   "outputs": [],
   "source": []
  }
 ],
 "metadata": {
  "kernelspec": {
   "display_name": "Python 2",
   "language": "python",
   "name": "python2"
  },
  "language_info": {
   "codemirror_mode": {
    "name": "ipython",
    "version": 2
   },
   "file_extension": ".py",
   "mimetype": "text/x-python",
   "name": "python",
   "nbconvert_exporter": "python",
   "pygments_lexer": "ipython2",
   "version": "2.7.14"
  }
 },
 "nbformat": 4,
 "nbformat_minor": 2
}
